{
  "metadata": {
    "kernelspec": {
      "name": "python",
      "display_name": "Python (Pyodide)",
      "language": "python"
    },
    "language_info": {
      "codemirror_mode": {
        "name": "python",
        "version": 3
      },
      "file_extension": ".py",
      "mimetype": "text/x-python",
      "name": "python",
      "nbconvert_exporter": "python",
      "pygments_lexer": "ipython3",
      "version": "3.8"
    }
  },
  "nbformat_minor": 4,
  "nbformat": 4,
  "cells": [
    {
      "cell_type": "markdown",
      "source": "# Lab Objectives\n\nThis lab aims to show how tf-idf works by walking you through an example, including:\n\n1. From Documents to Bags-of-words\n2. Transform raw tf to the log term frequency \n3. Adding idf to the weighted matrix\n4. The final term-document TF-IDF matrix\n\nPlease try out the following cells and run the python code in your notebook. \n\n***\n***This is not an assignment and you do not need to submit it***",
      "metadata": {}
    },
    {
      "cell_type": "markdown",
      "source": "# From Documents to Bags-of-words\n\nIn the Vector Space Model (VSM), we view each document as a *bag of words*. (Bag means multiset)\n\nIn python, the best way to represent a bag is via `collections.counter`.\n",
      "metadata": {}
    },
    {
      "cell_type": "code",
      "source": "# This is a helper function.\n# The cprint function is defined to print NumPy arrays with a more compact format\n\nfrom pprint import pprint\n\nimport numpy as np\nimport contextlib\n\n@contextlib.contextmanager\ndef printoptions(*args, **kwargs):\n    original = np.get_printoptions()\n    np.set_printoptions(*args, **kwargs)\n    yield \n    np.set_printoptions(**original)\n\n## compact print (numpy array) \ndef cprint(x):\n    with printoptions(precision=3, suppress=True, linewidth=120):\n        print(x)        \n    \n# test\nx = np.random.random(10)\ncprint(x)",
      "metadata": {
        "jupyter": {
          "outputs_hidden": false
        },
        "collapsed": false,
        "trusted": true
      },
      "outputs": [
        {
          "name": "stdout",
          "text": "[0.935 0.042 0.914 0.797 0.364 0.79  0.283 0.486 0.39  0.405]\n",
          "output_type": "stream"
        }
      ],
      "execution_count": 1
    },
    {
      "cell_type": "markdown",
      "source": "Now we count the number of times each of these words appears in each document:",
      "metadata": {}
    },
    {
      "cell_type": "code",
      "source": "doc_list = ['Julie loves me more than Linda loves me',\n            'Jane likes me more than Julie loves me',\n            'He likes basketball more than baseball']\n\nbags = []\n\nfrom collections import Counter\n\n# we use lower() here so that the sorted vocabulary is easier to see.  \n# For simplicity, we ignore the steps of stop words removal and stemming during tokenization.\nbags = [Counter(doc.lower().split()) for doc in doc_list]\n\nfor bag in bags:\n    print(bag)",
      "metadata": {
        "jupyter": {
          "outputs_hidden": false
        },
        "collapsed": false,
        "trusted": true
      },
      "outputs": [
        {
          "name": "stdout",
          "text": "Counter({'loves': 2, 'me': 2, 'julie': 1, 'more': 1, 'than': 1, 'linda': 1})\nCounter({'me': 2, 'jane': 1, 'likes': 1, 'more': 1, 'than': 1, 'julie': 1, 'loves': 1})\nCounter({'he': 1, 'likes': 1, 'basketball': 1, 'more': 1, 'than': 1, 'baseball': 1})\n",
          "output_type": "stream"
        }
      ],
      "execution_count": 2
    },
    {
      "cell_type": "markdown",
      "source": "Now we construct the vocabulary and the doc-term matrix. ",
      "metadata": {}
    },
    {
      "cell_type": "code",
      "source": "# A helper function to get the vocabulary\nimport itertools\n\nvocabulary = sorted(list(set(itertools.chain(*[list(b) for b in bags]))))\nvocabulary",
      "metadata": {
        "jupyter": {
          "outputs_hidden": false
        },
        "scrolled": true,
        "collapsed": false,
        "trusted": true
      },
      "outputs": [
        {
          "execution_count": 3,
          "output_type": "execute_result",
          "data": {
            "text/plain": "['baseball',\n 'basketball',\n 'he',\n 'jane',\n 'julie',\n 'likes',\n 'linda',\n 'loves',\n 'me',\n 'more',\n 'than']"
          },
          "metadata": {}
        }
      ],
      "execution_count": 3
    },
    {
      "cell_type": "code",
      "source": "# A helper function to print vocabulary vertically.\n\n\ndef print_vocabulary_vertically(voc, leading_str = '', spacing=2, align=1):\n    # align = 0: align top; otherwise, align bottom\n    max_len = max([len(v) for v in voc])\n    for i in range(max_len):\n        if align == 0:\n            line = [v[i] if i < len(v) else ' ' for v in voc]\n        else:\n            line = [' ' if i < max_len - len(v) else v[i-max_len] for v in voc]\n        print('{}{}'.format(leading_str, (' '*spacing).join(line)))\n\nprint_vocabulary_vertically(vocabulary, align=0)",
      "metadata": {
        "jupyter": {
          "outputs_hidden": false
        },
        "collapsed": false,
        "trusted": true
      },
      "outputs": [
        {
          "name": "stdout",
          "text": "b  b  h  j  j  l  l  l  m  m  t\na  a  e  a  u  i  i  o  e  o  h\ns  s     n  l  k  n  v     r  a\ne  k     e  i  e  d  e     e  n\nb  e        e  s  a  s         \na  t                           \nl  b                           \nl  a                           \n   l                           \n   l                           \n",
          "output_type": "stream"
        }
      ],
      "execution_count": 4
    },
    {
      "cell_type": "code",
      "source": "# printing out the raw term frequency.\n\n\n\nfor doc in doc_list:\n    print(doc)\nprint()\nvec_list = []\nprint_vocabulary_vertically(vocabulary, leading_str=' ')\nprint('-'*70)\nfor bag in bags:\n    vec = [bag[v] for v in vocabulary] # Counter['non-existing-key'] = 0\n    vec_list.append(vec)\n    print(vec)",
      "metadata": {
        "jupyter": {
          "outputs_hidden": false
        },
        "scrolled": true,
        "collapsed": false,
        "trusted": true
      },
      "outputs": [
        {
          "name": "stdout",
          "text": "Julie loves me more than Linda loves me\nJane likes me more than Julie loves me\nHe likes basketball more than baseball\n\n    b                           \n    a                           \n b  s                           \n a  k                           \n s  e                           \n e  t        j  l  l  l         \n b  b     j  u  i  i  o     m  t\n a  a     a  l  k  n  v     o  h\n l  l  h  n  i  e  d  e  m  r  a\n l  l  e  e  e  s  a  s  e  e  n\n----------------------------------------------------------------------\n[0, 0, 0, 0, 1, 0, 1, 2, 2, 1, 1]\n[0, 0, 0, 1, 1, 1, 0, 1, 2, 1, 1]\n[1, 1, 1, 0, 0, 1, 0, 0, 0, 1, 1]\n",
          "output_type": "stream"
        }
      ],
      "execution_count": 5
    },
    {
      "cell_type": "markdown",
      "source": "# Transform raw tf to tf by $1 + \\log(tf)$.",
      "metadata": {}
    },
    {
      "cell_type": "code",
      "source": "from math import log\ndef normalize_tf(tf):\n    if tf == 0:\n        return 0.0\n    else:\n        return 1.0 + log(tf)",
      "metadata": {
        "tags": [],
        "trusted": true
      },
      "outputs": [],
      "execution_count": 6
    },
    {
      "cell_type": "code",
      "source": "# TO ASK: what does log function do ???\n\ntf_vec_list = []\nfor vec in vec_list:\n    tf_vec_list.append([normalize_tf(val) for val in vec])\n\nprint_vocabulary_vertically(vocabulary, leading_str='   ', spacing=6)\nprint('-'*80)\ncprint(np.matrix(tf_vec_list))",
      "metadata": {
        "jupyter": {
          "outputs_hidden": false
        },
        "collapsed": false,
        "trusted": true
      },
      "outputs": [
        {
          "name": "stdout",
          "text": "          b                                                               \n          a                                                               \n   b      s                                                               \n   a      k                                                               \n   s      e                                                               \n   e      t                    j      l      l      l                     \n   b      b             j      u      i      i      o             m      t\n   a      a             a      l      k      n      v             o      h\n   l      l      h      n      i      e      d      e      m      r      a\n   l      l      e      e      e      s      a      s      e      e      n\n--------------------------------------------------------------------------------\n[[0.    0.    0.    0.    1.    0.    1.    1.693 1.693 1.    1.   ]\n [0.    0.    0.    1.    1.    1.    0.    1.    1.693 1.    1.   ]\n [1.    1.    1.    0.    0.    1.    0.    0.    0.    1.    1.   ]]\n",
          "output_type": "stream"
        }
      ],
      "execution_count": 8
    },
    {
      "cell_type": "markdown",
      "source": "# Adding idf (WHAT DOES THIS PART ONWARDS MEAN)",
      "metadata": {}
    },
    {
      "cell_type": "markdown",
      "source": "The above vectors in `vec_list` only keep track of term frequencies (`tf`s). Now we make each element $w_{d, t} = tf(d, t) \\cdot idf(t)$. \n\nNote that the textbook version of idf will have 0 if `df == ndocs`. Therefore, to deal with the corner cases, we can follow the implementation that gives: \n$$idf(t) = 1 + \\log(\\frac{ndocs}{df + 1})$$\n\nBTW, you will always need to do this to tackle new or specific problems you are facing when you join the workforce:) Therefore, a deep understanding of the principles behind the knowledge you learned at the uni is important. ",
      "metadata": {}
    },
    {
      "cell_type": "code",
      "source": "from math import log\ndef idf(cnt, ndocs): \n    return 1.0 + log(ndocs/(cnt+1))  ",
      "metadata": {
        "tags": [],
        "trusted": true
      },
      "outputs": [],
      "execution_count": 9
    },
    {
      "cell_type": "code",
      "source": "ndocs = len(doc_list)\n# voc = [ (v, [b[v] for b in bags]) for v in vocabulary] # if you want to see the individual counts\nvoc = [(v, sum([b[v] for b in bags])) for v in vocabulary]\npprint(voc)",
      "metadata": {
        "jupyter": {
          "outputs_hidden": false
        },
        "collapsed": false,
        "trusted": true
      },
      "outputs": [
        {
          "name": "stdout",
          "text": "[('baseball', 1),\n ('basketball', 1),\n ('he', 1),\n ('jane', 1),\n ('julie', 2),\n ('likes', 2),\n ('linda', 1),\n ('loves', 3),\n ('me', 4),\n ('more', 3),\n ('than', 3)]\n",
          "output_type": "stream"
        }
      ],
      "execution_count": 10
    },
    {
      "cell_type": "markdown",
      "source": "We will record in `voc` the idf values. ",
      "metadata": {}
    },
    {
      "cell_type": "code",
      "source": "voc = [(v, idf( sum([b[v] for b in bags]), ndocs)) for v in vocabulary]\nidf_dict = dict(voc)\npprint(voc)\n# print(idf_dict['he'])",
      "metadata": {
        "jupyter": {
          "outputs_hidden": false
        },
        "scrolled": true,
        "collapsed": false,
        "trusted": true
      },
      "outputs": [
        {
          "name": "stdout",
          "text": "[('baseball', 1.4054651081081644),\n ('basketball', 1.4054651081081644),\n ('he', 1.4054651081081644),\n ('jane', 1.4054651081081644),\n ('julie', 1.0),\n ('likes', 1.0),\n ('linda', 1.4054651081081644),\n ('loves', 0.7123179275482191),\n ('me', 0.4891743762340093),\n ('more', 0.7123179275482191),\n ('than', 0.7123179275482191)]\n",
          "output_type": "stream"
        }
      ],
      "execution_count": 11
    },
    {
      "cell_type": "markdown",
      "source": "# The final term-document TF-IDF matrix\n\nWe choose to implement it based on matrix operations supported by `numpy`. E.g., to get $\\{a_i b_i\\}_{i=1}^n$ from two vector $\\vec{A} = \\{a_i\\}_{i=1}^n$ and $\\vec{B} = \\{b_i\\}_{i=1}^n$, we first construct a diagonal matrix $\\mathbf{D_A}$ whose diagonal elements are $a_i$, then we can obtain the desired result by the standard matrix multiplication of $\\vec{B} \\mathbf{D_A}$. ",
      "metadata": {}
    },
    {
      "cell_type": "code",
      "source": "import numpy as np\n\ndef build_idf_matrix(idf_vector):\n    idf_mat = np.zeros((len(idf_vector), len(idf_vector)))\n    np.fill_diagonal(idf_mat, idf_vector)\n    return idf_mat\n\nidf_matrix = build_idf_matrix([v[1] for v in voc])\ncprint(idf_matrix)",
      "metadata": {
        "jupyter": {
          "outputs_hidden": false
        },
        "collapsed": false,
        "trusted": true
      },
      "outputs": [
        {
          "name": "stdout",
          "text": "[[1.405 0.    0.    0.    0.    0.    0.    0.    0.    0.    0.   ]\n [0.    1.405 0.    0.    0.    0.    0.    0.    0.    0.    0.   ]\n [0.    0.    1.405 0.    0.    0.    0.    0.    0.    0.    0.   ]\n [0.    0.    0.    1.405 0.    0.    0.    0.    0.    0.    0.   ]\n [0.    0.    0.    0.    1.    0.    0.    0.    0.    0.    0.   ]\n [0.    0.    0.    0.    0.    1.    0.    0.    0.    0.    0.   ]\n [0.    0.    0.    0.    0.    0.    1.405 0.    0.    0.    0.   ]\n [0.    0.    0.    0.    0.    0.    0.    0.712 0.    0.    0.   ]\n [0.    0.    0.    0.    0.    0.    0.    0.    0.489 0.    0.   ]\n [0.    0.    0.    0.    0.    0.    0.    0.    0.    0.712 0.   ]\n [0.    0.    0.    0.    0.    0.    0.    0.    0.    0.    0.712]]\n",
          "output_type": "stream"
        }
      ],
      "execution_count": 12
    },
    {
      "cell_type": "code",
      "source": "doc_term_matrix_tfidf = []\n\n#performing tf-idf matrix multiplication\nfor vec in tf_vec_list:\n    doc_term_matrix_tfidf.append(np.dot(vec, idf_matrix))\ncprint(np.matrix(doc_term_matrix_tfidf)) # np.matrix() just to make it easier to look at",
      "metadata": {
        "jupyter": {
          "outputs_hidden": false
        },
        "collapsed": false,
        "trusted": true
      },
      "outputs": [
        {
          "name": "stdout",
          "text": "[[0.    0.    0.    0.    1.    0.    1.405 1.206 0.828 0.712 0.712]\n [0.    0.    0.    1.405 1.    1.    0.    0.712 0.828 0.712 0.712]\n [1.405 1.405 1.405 0.    0.    1.    0.    0.    0.    0.712 0.712]]\n",
          "output_type": "stream"
        }
      ],
      "execution_count": 13
    },
    {
      "cell_type": "markdown",
      "source": "Look at some elements in matrix m.\n\n- `m[0][6] = 1.405`. This is because $tf(d_0, 'linda') = 1$, and $idf('linda') = 1.4054651081081644$. \n- `m[0][8] = 0.828`. This is because $tf(d_0, 'me') = 1.693$, and $idf('me') = 0.4891743762340093$.  ",
      "metadata": {}
    },
    {
      "cell_type": "markdown",
      "source": "---\n***end***",
      "metadata": {}
    }
  ]
}